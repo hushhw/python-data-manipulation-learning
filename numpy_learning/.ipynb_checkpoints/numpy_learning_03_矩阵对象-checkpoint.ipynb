{
 "cells": [
  {
   "cell_type": "markdown",
   "metadata": {},
   "source": [
    "矩阵对象和数组的区别：\n",
    "* 矩阵是二维的，而数组的可以是任意正整数维\n",
    "* 矩阵的 * 操作符进行的是矩阵乘法，乘号左侧的矩阵列和乘号右侧的矩阵行要相等，而在数组中 * 操作符进行的是每一元素的对应相乘，乘号两侧的数组每一维大小需要一致"
   ]
  },
  {
   "cell_type": "markdown",
   "metadata": {},
   "source": [
    "### 1. 创建矩阵"
   ]
  },
  {
   "cell_type": "code",
   "execution_count": 7,
   "metadata": {},
   "outputs": [
    {
     "name": "stdout",
     "output_type": "stream",
     "text": [
      "[0 1 2 3 4]\n",
      "[[0 1 2 3 4]]\n",
      "[[0 1 2 3 4]]\n",
      "<class 'numpy.ndarray'>\n",
      "[[1. 2.]\n",
      " [3. 4.]] <class 'numpy.matrix'>\n"
     ]
    }
   ],
   "source": [
    "import numpy as np\n",
    "a = np.arange(5)\n",
    "print(a)\n",
    "print(np.mat(a))\n",
    "print(np.asmatrix(a))\n",
    "print(type(a))\n",
    "\n",
    "b = np.mat('1.0 2.0; 3.0 4.0')\n",
    "print(b,type(b))"
   ]
  },
  {
   "cell_type": "markdown",
   "metadata": {},
   "source": [
    "### 2. 矩阵乘法"
   ]
  },
  {
   "cell_type": "code",
   "execution_count": 11,
   "metadata": {},
   "outputs": [
    {
     "name": "stdout",
     "output_type": "stream",
     "text": [
      "a= [[1 2]\n",
      " [3 4]] \n",
      "b= [[1 0]\n",
      " [0 1]]\n",
      "\n",
      "\n",
      "array : a*b:\n",
      "[[1 0]\n",
      " [0 4]]\n",
      "matrix: a*b:\n",
      "[[1 2]\n",
      " [3 4]]\n"
     ]
    }
   ],
   "source": [
    "a = np.array([[1, 2], [3, 4]])\n",
    "b = np.array([[1, 0], [0, 1]])\n",
    "print('a=', a, '\\nb=', b)\n",
    "print('\\n')\n",
    "print('array : a*b:')\n",
    "print(a * b)\n",
    "print('matrix: a*b:')\n",
    "print(np.asmatrix(a) * np.asmatrix(b))"
   ]
  },
  {
   "cell_type": "markdown",
   "metadata": {},
   "source": [
    "### 3. 矩阵转置"
   ]
  },
  {
   "cell_type": "code",
   "execution_count": 13,
   "metadata": {},
   "outputs": [
    {
     "name": "stdout",
     "output_type": "stream",
     "text": [
      "[[1 4]\n",
      " [2 5]\n",
      " [3 6]]\n",
      "[[1 4]\n",
      " [2 5]\n",
      " [3 6]]\n"
     ]
    }
   ],
   "source": [
    "a = np.array([[1, 2, 3], [4, 5, 6]])\n",
    "print(np.transpose(a))   #对于数组，用transpose\n",
    "print(np.matrix(a).T)    #对于矩阵，直接T"
   ]
  },
  {
   "cell_type": "markdown",
   "metadata": {},
   "source": [
    "### 4. 矩阵求逆"
   ]
  },
  {
   "cell_type": "code",
   "execution_count": 14,
   "metadata": {},
   "outputs": [
    {
     "name": "stdout",
     "output_type": "stream",
     "text": [
      "[[1 2]\n",
      " [4 4]]\n",
      "[[1. 0.]\n",
      " [0. 1.]]\n"
     ]
    }
   ],
   "source": [
    "import numpy.linalg as nlg\n",
    "a = np.mat([[1,2],[4,4]]) \n",
    "print(a)\n",
    "b = nlg.inv(a)\n",
    "print(a*b)"
   ]
  },
  {
   "cell_type": "markdown",
   "metadata": {},
   "source": [
    "### 5. 特征值和特征向量"
   ]
  },
  {
   "cell_type": "code",
   "execution_count": 17,
   "metadata": {},
   "outputs": [
    {
     "name": "stdout",
     "output_type": "stream",
     "text": [
      "eigen value:\n",
      "[ 1.50979881 -0.48188698 -0.15449722]\n",
      "eigen vector:\n",
      "[[-0.66318931 -0.85979814  0.65125308]\n",
      " [-0.65912928  0.51060499 -0.57163425]\n",
      " [-0.35458219  0.0054507   0.4991029 ]]\n"
     ]
    }
   ],
   "source": [
    "a = np.random.rand(3,3)\n",
    "eig_value, eig_vector = nlg.eig(a)\n",
    "print(\"eigen value:\")\n",
    "print(eig_value)\n",
    "print(\"eigen vector:\")\n",
    "print(eig_vector)"
   ]
  },
  {
   "cell_type": "code",
   "execution_count": null,
   "metadata": {},
   "outputs": [],
   "source": []
  }
 ],
 "metadata": {
  "kernelspec": {
   "display_name": "Python 3",
   "language": "python",
   "name": "python3"
  },
  "language_info": {
   "codemirror_mode": {
    "name": "ipython",
    "version": 3
   },
   "file_extension": ".py",
   "mimetype": "text/x-python",
   "name": "python",
   "nbconvert_exporter": "python",
   "pygments_lexer": "ipython3",
   "version": "3.7.3"
  }
 },
 "nbformat": 4,
 "nbformat_minor": 2
}
